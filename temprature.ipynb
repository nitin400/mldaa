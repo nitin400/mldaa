{
 "cells": [
  {
   "cell_type": "code",
   "execution_count": 2,
   "id": "39c487d3",
   "metadata": {},
   "outputs": [],
   "source": [
    "import pandas as pd\n",
    "import matplotlib.pyplot as plt\n",
    "import seaborn as sns"
   ]
  },
  {
   "cell_type": "code",
   "execution_count": 3,
   "id": "307be2c7",
   "metadata": {},
   "outputs": [],
   "source": [
    "df=pd.read_csv('temperatures.csv')"
   ]
  },
  {
   "cell_type": "code",
   "execution_count": 4,
   "id": "f9c98353",
   "metadata": {},
   "outputs": [
    {
     "data": {
      "text/html": [
       "<div>\n",
       "<style scoped>\n",
       "    .dataframe tbody tr th:only-of-type {\n",
       "        vertical-align: middle;\n",
       "    }\n",
       "\n",
       "    .dataframe tbody tr th {\n",
       "        vertical-align: top;\n",
       "    }\n",
       "\n",
       "    .dataframe thead th {\n",
       "        text-align: right;\n",
       "    }\n",
       "</style>\n",
       "<table border=\"1\" class=\"dataframe\">\n",
       "  <thead>\n",
       "    <tr style=\"text-align: right;\">\n",
       "      <th></th>\n",
       "      <th>YEAR</th>\n",
       "      <th>JAN</th>\n",
       "      <th>FEB</th>\n",
       "      <th>MAR</th>\n",
       "      <th>APR</th>\n",
       "      <th>MAY</th>\n",
       "      <th>JUN</th>\n",
       "      <th>JUL</th>\n",
       "      <th>AUG</th>\n",
       "      <th>SEP</th>\n",
       "      <th>OCT</th>\n",
       "      <th>NOV</th>\n",
       "      <th>DEC</th>\n",
       "      <th>ANNUAL</th>\n",
       "      <th>JAN-FEB</th>\n",
       "      <th>MAR-MAY</th>\n",
       "      <th>JUN-SEP</th>\n",
       "      <th>OCT-DEC</th>\n",
       "    </tr>\n",
       "  </thead>\n",
       "  <tbody>\n",
       "    <tr>\n",
       "      <th>0</th>\n",
       "      <td>1901</td>\n",
       "      <td>22.40</td>\n",
       "      <td>24.14</td>\n",
       "      <td>29.07</td>\n",
       "      <td>31.91</td>\n",
       "      <td>33.41</td>\n",
       "      <td>33.18</td>\n",
       "      <td>31.21</td>\n",
       "      <td>30.39</td>\n",
       "      <td>30.47</td>\n",
       "      <td>29.97</td>\n",
       "      <td>27.31</td>\n",
       "      <td>24.49</td>\n",
       "      <td>28.96</td>\n",
       "      <td>23.27</td>\n",
       "      <td>31.46</td>\n",
       "      <td>31.27</td>\n",
       "      <td>27.25</td>\n",
       "    </tr>\n",
       "    <tr>\n",
       "      <th>1</th>\n",
       "      <td>1902</td>\n",
       "      <td>24.93</td>\n",
       "      <td>26.58</td>\n",
       "      <td>29.77</td>\n",
       "      <td>31.78</td>\n",
       "      <td>33.73</td>\n",
       "      <td>32.91</td>\n",
       "      <td>30.92</td>\n",
       "      <td>30.73</td>\n",
       "      <td>29.80</td>\n",
       "      <td>29.12</td>\n",
       "      <td>26.31</td>\n",
       "      <td>24.04</td>\n",
       "      <td>29.22</td>\n",
       "      <td>25.75</td>\n",
       "      <td>31.76</td>\n",
       "      <td>31.09</td>\n",
       "      <td>26.49</td>\n",
       "    </tr>\n",
       "    <tr>\n",
       "      <th>2</th>\n",
       "      <td>1903</td>\n",
       "      <td>23.44</td>\n",
       "      <td>25.03</td>\n",
       "      <td>27.83</td>\n",
       "      <td>31.39</td>\n",
       "      <td>32.91</td>\n",
       "      <td>33.00</td>\n",
       "      <td>31.34</td>\n",
       "      <td>29.98</td>\n",
       "      <td>29.85</td>\n",
       "      <td>29.04</td>\n",
       "      <td>26.08</td>\n",
       "      <td>23.65</td>\n",
       "      <td>28.47</td>\n",
       "      <td>24.24</td>\n",
       "      <td>30.71</td>\n",
       "      <td>30.92</td>\n",
       "      <td>26.26</td>\n",
       "    </tr>\n",
       "    <tr>\n",
       "      <th>3</th>\n",
       "      <td>1904</td>\n",
       "      <td>22.50</td>\n",
       "      <td>24.73</td>\n",
       "      <td>28.21</td>\n",
       "      <td>32.02</td>\n",
       "      <td>32.64</td>\n",
       "      <td>32.07</td>\n",
       "      <td>30.36</td>\n",
       "      <td>30.09</td>\n",
       "      <td>30.04</td>\n",
       "      <td>29.20</td>\n",
       "      <td>26.36</td>\n",
       "      <td>23.63</td>\n",
       "      <td>28.49</td>\n",
       "      <td>23.62</td>\n",
       "      <td>30.95</td>\n",
       "      <td>30.66</td>\n",
       "      <td>26.40</td>\n",
       "    </tr>\n",
       "    <tr>\n",
       "      <th>4</th>\n",
       "      <td>1905</td>\n",
       "      <td>22.00</td>\n",
       "      <td>22.83</td>\n",
       "      <td>26.68</td>\n",
       "      <td>30.01</td>\n",
       "      <td>33.32</td>\n",
       "      <td>33.25</td>\n",
       "      <td>31.44</td>\n",
       "      <td>30.68</td>\n",
       "      <td>30.12</td>\n",
       "      <td>30.67</td>\n",
       "      <td>27.52</td>\n",
       "      <td>23.82</td>\n",
       "      <td>28.30</td>\n",
       "      <td>22.25</td>\n",
       "      <td>30.00</td>\n",
       "      <td>31.33</td>\n",
       "      <td>26.57</td>\n",
       "    </tr>\n",
       "    <tr>\n",
       "      <th>...</th>\n",
       "      <td>...</td>\n",
       "      <td>...</td>\n",
       "      <td>...</td>\n",
       "      <td>...</td>\n",
       "      <td>...</td>\n",
       "      <td>...</td>\n",
       "      <td>...</td>\n",
       "      <td>...</td>\n",
       "      <td>...</td>\n",
       "      <td>...</td>\n",
       "      <td>...</td>\n",
       "      <td>...</td>\n",
       "      <td>...</td>\n",
       "      <td>...</td>\n",
       "      <td>...</td>\n",
       "      <td>...</td>\n",
       "      <td>...</td>\n",
       "      <td>...</td>\n",
       "    </tr>\n",
       "    <tr>\n",
       "      <th>112</th>\n",
       "      <td>2013</td>\n",
       "      <td>24.56</td>\n",
       "      <td>26.59</td>\n",
       "      <td>30.62</td>\n",
       "      <td>32.66</td>\n",
       "      <td>34.46</td>\n",
       "      <td>32.44</td>\n",
       "      <td>31.07</td>\n",
       "      <td>30.76</td>\n",
       "      <td>31.04</td>\n",
       "      <td>30.27</td>\n",
       "      <td>27.83</td>\n",
       "      <td>25.37</td>\n",
       "      <td>29.81</td>\n",
       "      <td>25.58</td>\n",
       "      <td>32.58</td>\n",
       "      <td>31.33</td>\n",
       "      <td>27.83</td>\n",
       "    </tr>\n",
       "    <tr>\n",
       "      <th>113</th>\n",
       "      <td>2014</td>\n",
       "      <td>23.83</td>\n",
       "      <td>25.97</td>\n",
       "      <td>28.95</td>\n",
       "      <td>32.74</td>\n",
       "      <td>33.77</td>\n",
       "      <td>34.15</td>\n",
       "      <td>31.85</td>\n",
       "      <td>31.32</td>\n",
       "      <td>30.68</td>\n",
       "      <td>30.29</td>\n",
       "      <td>28.05</td>\n",
       "      <td>25.08</td>\n",
       "      <td>29.72</td>\n",
       "      <td>24.90</td>\n",
       "      <td>31.82</td>\n",
       "      <td>32.00</td>\n",
       "      <td>27.81</td>\n",
       "    </tr>\n",
       "    <tr>\n",
       "      <th>114</th>\n",
       "      <td>2015</td>\n",
       "      <td>24.58</td>\n",
       "      <td>26.89</td>\n",
       "      <td>29.07</td>\n",
       "      <td>31.87</td>\n",
       "      <td>34.09</td>\n",
       "      <td>32.48</td>\n",
       "      <td>31.88</td>\n",
       "      <td>31.52</td>\n",
       "      <td>31.55</td>\n",
       "      <td>31.04</td>\n",
       "      <td>28.10</td>\n",
       "      <td>25.67</td>\n",
       "      <td>29.90</td>\n",
       "      <td>25.74</td>\n",
       "      <td>31.68</td>\n",
       "      <td>31.87</td>\n",
       "      <td>28.27</td>\n",
       "    </tr>\n",
       "    <tr>\n",
       "      <th>115</th>\n",
       "      <td>2016</td>\n",
       "      <td>26.94</td>\n",
       "      <td>29.72</td>\n",
       "      <td>32.62</td>\n",
       "      <td>35.38</td>\n",
       "      <td>35.72</td>\n",
       "      <td>34.03</td>\n",
       "      <td>31.64</td>\n",
       "      <td>31.79</td>\n",
       "      <td>31.66</td>\n",
       "      <td>31.98</td>\n",
       "      <td>30.11</td>\n",
       "      <td>28.01</td>\n",
       "      <td>31.63</td>\n",
       "      <td>28.33</td>\n",
       "      <td>34.57</td>\n",
       "      <td>32.28</td>\n",
       "      <td>30.03</td>\n",
       "    </tr>\n",
       "    <tr>\n",
       "      <th>116</th>\n",
       "      <td>2017</td>\n",
       "      <td>26.45</td>\n",
       "      <td>29.46</td>\n",
       "      <td>31.60</td>\n",
       "      <td>34.95</td>\n",
       "      <td>35.84</td>\n",
       "      <td>33.82</td>\n",
       "      <td>31.88</td>\n",
       "      <td>31.72</td>\n",
       "      <td>32.22</td>\n",
       "      <td>32.29</td>\n",
       "      <td>29.60</td>\n",
       "      <td>27.18</td>\n",
       "      <td>31.42</td>\n",
       "      <td>27.95</td>\n",
       "      <td>34.13</td>\n",
       "      <td>32.41</td>\n",
       "      <td>29.69</td>\n",
       "    </tr>\n",
       "  </tbody>\n",
       "</table>\n",
       "<p>117 rows × 18 columns</p>\n",
       "</div>"
      ],
      "text/plain": [
       "     YEAR    JAN    FEB    MAR    APR    MAY    JUN    JUL    AUG    SEP  \\\n",
       "0    1901  22.40  24.14  29.07  31.91  33.41  33.18  31.21  30.39  30.47   \n",
       "1    1902  24.93  26.58  29.77  31.78  33.73  32.91  30.92  30.73  29.80   \n",
       "2    1903  23.44  25.03  27.83  31.39  32.91  33.00  31.34  29.98  29.85   \n",
       "3    1904  22.50  24.73  28.21  32.02  32.64  32.07  30.36  30.09  30.04   \n",
       "4    1905  22.00  22.83  26.68  30.01  33.32  33.25  31.44  30.68  30.12   \n",
       "..    ...    ...    ...    ...    ...    ...    ...    ...    ...    ...   \n",
       "112  2013  24.56  26.59  30.62  32.66  34.46  32.44  31.07  30.76  31.04   \n",
       "113  2014  23.83  25.97  28.95  32.74  33.77  34.15  31.85  31.32  30.68   \n",
       "114  2015  24.58  26.89  29.07  31.87  34.09  32.48  31.88  31.52  31.55   \n",
       "115  2016  26.94  29.72  32.62  35.38  35.72  34.03  31.64  31.79  31.66   \n",
       "116  2017  26.45  29.46  31.60  34.95  35.84  33.82  31.88  31.72  32.22   \n",
       "\n",
       "       OCT    NOV    DEC  ANNUAL  JAN-FEB  MAR-MAY  JUN-SEP  OCT-DEC  \n",
       "0    29.97  27.31  24.49   28.96    23.27    31.46    31.27    27.25  \n",
       "1    29.12  26.31  24.04   29.22    25.75    31.76    31.09    26.49  \n",
       "2    29.04  26.08  23.65   28.47    24.24    30.71    30.92    26.26  \n",
       "3    29.20  26.36  23.63   28.49    23.62    30.95    30.66    26.40  \n",
       "4    30.67  27.52  23.82   28.30    22.25    30.00    31.33    26.57  \n",
       "..     ...    ...    ...     ...      ...      ...      ...      ...  \n",
       "112  30.27  27.83  25.37   29.81    25.58    32.58    31.33    27.83  \n",
       "113  30.29  28.05  25.08   29.72    24.90    31.82    32.00    27.81  \n",
       "114  31.04  28.10  25.67   29.90    25.74    31.68    31.87    28.27  \n",
       "115  31.98  30.11  28.01   31.63    28.33    34.57    32.28    30.03  \n",
       "116  32.29  29.60  27.18   31.42    27.95    34.13    32.41    29.69  \n",
       "\n",
       "[117 rows x 18 columns]"
      ]
     },
     "execution_count": 4,
     "metadata": {},
     "output_type": "execute_result"
    }
   ],
   "source": [
    "df"
   ]
  },
  {
   "cell_type": "code",
   "execution_count": 5,
   "id": "d4100b29",
   "metadata": {},
   "outputs": [
    {
     "data": {
      "text/html": [
       "<div>\n",
       "<style scoped>\n",
       "    .dataframe tbody tr th:only-of-type {\n",
       "        vertical-align: middle;\n",
       "    }\n",
       "\n",
       "    .dataframe tbody tr th {\n",
       "        vertical-align: top;\n",
       "    }\n",
       "\n",
       "    .dataframe thead th {\n",
       "        text-align: right;\n",
       "    }\n",
       "</style>\n",
       "<table border=\"1\" class=\"dataframe\">\n",
       "  <thead>\n",
       "    <tr style=\"text-align: right;\">\n",
       "      <th></th>\n",
       "      <th>YEAR</th>\n",
       "      <th>JAN</th>\n",
       "      <th>FEB</th>\n",
       "      <th>MAR</th>\n",
       "      <th>APR</th>\n",
       "      <th>MAY</th>\n",
       "      <th>JUN</th>\n",
       "      <th>JUL</th>\n",
       "      <th>AUG</th>\n",
       "      <th>SEP</th>\n",
       "      <th>OCT</th>\n",
       "      <th>NOV</th>\n",
       "      <th>DEC</th>\n",
       "      <th>ANNUAL</th>\n",
       "      <th>JAN-FEB</th>\n",
       "      <th>MAR-MAY</th>\n",
       "      <th>JUN-SEP</th>\n",
       "      <th>OCT-DEC</th>\n",
       "    </tr>\n",
       "  </thead>\n",
       "  <tbody>\n",
       "    <tr>\n",
       "      <th>0</th>\n",
       "      <td>1901</td>\n",
       "      <td>22.40</td>\n",
       "      <td>24.14</td>\n",
       "      <td>29.07</td>\n",
       "      <td>31.91</td>\n",
       "      <td>33.41</td>\n",
       "      <td>33.18</td>\n",
       "      <td>31.21</td>\n",
       "      <td>30.39</td>\n",
       "      <td>30.47</td>\n",
       "      <td>29.97</td>\n",
       "      <td>27.31</td>\n",
       "      <td>24.49</td>\n",
       "      <td>28.96</td>\n",
       "      <td>23.27</td>\n",
       "      <td>31.46</td>\n",
       "      <td>31.27</td>\n",
       "      <td>27.25</td>\n",
       "    </tr>\n",
       "    <tr>\n",
       "      <th>1</th>\n",
       "      <td>1902</td>\n",
       "      <td>24.93</td>\n",
       "      <td>26.58</td>\n",
       "      <td>29.77</td>\n",
       "      <td>31.78</td>\n",
       "      <td>33.73</td>\n",
       "      <td>32.91</td>\n",
       "      <td>30.92</td>\n",
       "      <td>30.73</td>\n",
       "      <td>29.80</td>\n",
       "      <td>29.12</td>\n",
       "      <td>26.31</td>\n",
       "      <td>24.04</td>\n",
       "      <td>29.22</td>\n",
       "      <td>25.75</td>\n",
       "      <td>31.76</td>\n",
       "      <td>31.09</td>\n",
       "      <td>26.49</td>\n",
       "    </tr>\n",
       "    <tr>\n",
       "      <th>2</th>\n",
       "      <td>1903</td>\n",
       "      <td>23.44</td>\n",
       "      <td>25.03</td>\n",
       "      <td>27.83</td>\n",
       "      <td>31.39</td>\n",
       "      <td>32.91</td>\n",
       "      <td>33.00</td>\n",
       "      <td>31.34</td>\n",
       "      <td>29.98</td>\n",
       "      <td>29.85</td>\n",
       "      <td>29.04</td>\n",
       "      <td>26.08</td>\n",
       "      <td>23.65</td>\n",
       "      <td>28.47</td>\n",
       "      <td>24.24</td>\n",
       "      <td>30.71</td>\n",
       "      <td>30.92</td>\n",
       "      <td>26.26</td>\n",
       "    </tr>\n",
       "    <tr>\n",
       "      <th>3</th>\n",
       "      <td>1904</td>\n",
       "      <td>22.50</td>\n",
       "      <td>24.73</td>\n",
       "      <td>28.21</td>\n",
       "      <td>32.02</td>\n",
       "      <td>32.64</td>\n",
       "      <td>32.07</td>\n",
       "      <td>30.36</td>\n",
       "      <td>30.09</td>\n",
       "      <td>30.04</td>\n",
       "      <td>29.20</td>\n",
       "      <td>26.36</td>\n",
       "      <td>23.63</td>\n",
       "      <td>28.49</td>\n",
       "      <td>23.62</td>\n",
       "      <td>30.95</td>\n",
       "      <td>30.66</td>\n",
       "      <td>26.40</td>\n",
       "    </tr>\n",
       "    <tr>\n",
       "      <th>4</th>\n",
       "      <td>1905</td>\n",
       "      <td>22.00</td>\n",
       "      <td>22.83</td>\n",
       "      <td>26.68</td>\n",
       "      <td>30.01</td>\n",
       "      <td>33.32</td>\n",
       "      <td>33.25</td>\n",
       "      <td>31.44</td>\n",
       "      <td>30.68</td>\n",
       "      <td>30.12</td>\n",
       "      <td>30.67</td>\n",
       "      <td>27.52</td>\n",
       "      <td>23.82</td>\n",
       "      <td>28.30</td>\n",
       "      <td>22.25</td>\n",
       "      <td>30.00</td>\n",
       "      <td>31.33</td>\n",
       "      <td>26.57</td>\n",
       "    </tr>\n",
       "  </tbody>\n",
       "</table>\n",
       "</div>"
      ],
      "text/plain": [
       "   YEAR    JAN    FEB    MAR    APR    MAY    JUN    JUL    AUG    SEP    OCT  \\\n",
       "0  1901  22.40  24.14  29.07  31.91  33.41  33.18  31.21  30.39  30.47  29.97   \n",
       "1  1902  24.93  26.58  29.77  31.78  33.73  32.91  30.92  30.73  29.80  29.12   \n",
       "2  1903  23.44  25.03  27.83  31.39  32.91  33.00  31.34  29.98  29.85  29.04   \n",
       "3  1904  22.50  24.73  28.21  32.02  32.64  32.07  30.36  30.09  30.04  29.20   \n",
       "4  1905  22.00  22.83  26.68  30.01  33.32  33.25  31.44  30.68  30.12  30.67   \n",
       "\n",
       "     NOV    DEC  ANNUAL  JAN-FEB  MAR-MAY  JUN-SEP  OCT-DEC  \n",
       "0  27.31  24.49   28.96    23.27    31.46    31.27    27.25  \n",
       "1  26.31  24.04   29.22    25.75    31.76    31.09    26.49  \n",
       "2  26.08  23.65   28.47    24.24    30.71    30.92    26.26  \n",
       "3  26.36  23.63   28.49    23.62    30.95    30.66    26.40  \n",
       "4  27.52  23.82   28.30    22.25    30.00    31.33    26.57  "
      ]
     },
     "execution_count": 5,
     "metadata": {},
     "output_type": "execute_result"
    }
   ],
   "source": [
    "\n",
    "df.head()"
   ]
  },
  {
   "cell_type": "code",
   "execution_count": 10,
   "id": "3d2b82c8",
   "metadata": {},
   "outputs": [],
   "source": [
    "#input data\n",
    "x=df['YEAR']\n",
    "\n",
    "#output data\n",
    "y=df['ANNUAL']"
   ]
  },
  {
   "cell_type": "code",
   "execution_count": 12,
   "id": "f8401f9c",
   "metadata": {},
   "outputs": [
    {
     "data": {
      "text/plain": [
       "<matplotlib.collections.PathCollection at 0x1a4551e33d0>"
      ]
     },
     "execution_count": 12,
     "metadata": {},
     "output_type": "execute_result"
    },
    {
     "data": {
      "image/png": "[encoded data removed]",
      "text/plain": [
       "<Figure size 1600x900 with 1 Axes>"
      ]
     },
     "metadata": {},
     "output_type": "display_data"
    }
   ],
   "source": [
    "plt.figure(figsize=(16,9))\n",
    "plt.title('Temperature plot of INDIA')\n",
    "plt.xlabel('Year')\n",
    "plt.ylabel('Annual average Temperatue')\n",
    "plt.scatter(x,y)"
   ]
  },
  {
   "cell_type": "code",
   "execution_count": 13,
   "id": "beade73f",
   "metadata": {},
   "outputs": [
    {
     "data": {
      "text/plain": [
       "(117,)"
      ]
     },
     "execution_count": 13,
     "metadata": {},
     "output_type": "execute_result"
    }
   ],
   "source": [
    "x.shape"
   ]
  },
  {
   "cell_type": "code",
   "execution_count": 14,
   "id": "15499d8e",
   "metadata": {},
   "outputs": [],
   "source": [
    "x=x.values"
   ]
  },
  {
   "cell_type": "code",
   "execution_count": 15,
   "id": "ad6c4125",
   "metadata": {},
   "outputs": [
    {
     "data": {
      "text/plain": [
       "array([1901, 1902, 1903, 1904, 1905, 1906, 1907, 1908, 1909, 1910, 1911,\n",
       "       1912, 1913, 1914, 1915, 1916, 1917, 1918, 1919, 1920, 1921, 1922,\n",
       "       1923, 1924, 1925, 1926, 1927, 1928, 1929, 1930, 1931, 1932, 1933,\n",
       "       1934, 1935, 1936, 1937, 1938, 1939, 1940, 1941, 1942, 1943, 1944,\n",
       "       1945, 1946, 1947, 1948, 1949, 1950, 1951, 1952, 1953, 1954, 1955,\n",
       "       1956, 1957, 1958, 1959, 1960, 1961, 1962, 1963, 1964, 1965, 1966,\n",
       "       1967, 1968, 1969, 1970, 1971, 1972, 1973, 1974, 1975, 1976, 1977,\n",
       "       1978, 1979, 1980, 1981, 1982, 1983, 1984, 1985, 1986, 1987, 1988,\n",
       "       1989, 1990, 1991, 1992, 1993, 1994, 1995, 1996, 1997, 1998, 1999,\n",
       "       2000, 2001, 2002, 2003, 2004, 2005, 2006, 2007, 2008, 2009, 2010,\n",
       "       2011, 2012, 2013, 2014, 2015, 2016, 2017], dtype=int64)"
      ]
     },
     "execution_count": 15,
     "metadata": {},
     "output_type": "execute_result"
    }
   ],
   "source": [
    "x"
   ]
  },
  {
   "cell_type": "code",
   "execution_count": 22,
   "id": "67f83aaf",
   "metadata": {},
   "outputs": [],
   "source": [
    "\n",
    "x=x.reshape(117,1)"
   ]
  },
  {
   "cell_type": "code",
   "execution_count": 23,
   "id": "a8871f54",
   "metadata": {},
   "outputs": [
    {
     "data": {
      "text/plain": [
       "(117, 1)"
      ]
     },
     "execution_count": 23,
     "metadata": {},
     "output_type": "execute_result"
    }
   ],
   "source": [
    "x.shape"
   ]
  },
  {
   "cell_type": "code",
   "execution_count": 18,
   "id": "30d125b3",
   "metadata": {},
   "outputs": [],
   "source": [
    "from sklearn.linear_model import LinearRegression"
   ]
  },
  {
   "cell_type": "code",
   "execution_count": 19,
   "id": "fe204f4b",
   "metadata": {},
   "outputs": [],
   "source": [
    "regressor=LinearRegression()"
   ]
  },
  {
   "cell_type": "code",
   "execution_count": 25,
   "id": "1a6bc516",
   "metadata": {},
   "outputs": [
    {
     "data": {
      "text/html": [
       "<style>#sk-container-id-2 {color: black;background-color: white;}#sk-container-id-2 pre{padding: 0;}#sk-container-id-2 div.sk-toggleable {background-color: white;}#sk-container-id-2 label.sk-toggleable__label {cursor: pointer;display: block;width: 100%;margin-bottom: 0;padding: 0.3em;box-sizing: border-box;text-align: center;}#sk-container-id-2 label.sk-toggleable__label-arrow:before {content: \"▸\";float: left;margin-right: 0.25em;color: #696969;}#sk-container-id-2 label.sk-toggleable__label-arrow:hover:before {color: black;}#sk-container-id-2 div.sk-estimator:hover label.sk-toggleable__label-arrow:before {color: black;}#sk-container-id-2 div.sk-toggleable__content {max-height: 0;max-width: 0;overflow: hidden;text-align: left;background-color: #f0f8ff;}#sk-container-id-2 div.sk-toggleable__content pre {margin: 0.2em;color: black;border-radius: 0.25em;background-color: #f0f8ff;}#sk-container-id-2 input.sk-toggleable__control:checked~div.sk-toggleable__content {max-height: 200px;max-width: 100%;overflow: auto;}#sk-container-id-2 input.sk-toggleable__control:checked~label.sk-toggleable__label-arrow:before {content: \"▾\";}#sk-container-id-2 div.sk-estimator input.sk-toggleable__control:checked~label.sk-toggleable__label {background-color: #d4ebff;}#sk-container-id-2 div.sk-label input.sk-toggleable__control:checked~label.sk-toggleable__label {background-color: #d4ebff;}#sk-container-id-2 input.sk-hidden--visually {border: 0;clip: rect(1px 1px 1px 1px);clip: rect(1px, 1px, 1px, 1px);height: 1px;margin: -1px;overflow: hidden;padding: 0;position: absolute;width: 1px;}#sk-container-id-2 div.sk-estimator {font-family: monospace;background-color: #f0f8ff;border: 1px dotted black;border-radius: 0.25em;box-sizing: border-box;margin-bottom: 0.5em;}#sk-container-id-2 div.sk-estimator:hover {background-color: #d4ebff;}#sk-container-id-2 div.sk-parallel-item::after {content: \"\";width: 100%;border-bottom: 1px solid gray;flex-grow: 1;}#sk-container-id-2 div.sk-label:hover label.sk-toggleable__label {background-color: #d4ebff;}#sk-container-id-2 div.sk-serial::before {content: \"\";position: absolute;border-left: 1px solid gray;box-sizing: border-box;top: 0;bottom: 0;left: 50%;z-index: 0;}#sk-container-id-2 div.sk-serial {display: flex;flex-direction: column;align-items: center;background-color: white;padding-right: 0.2em;padding-left: 0.2em;position: relative;}#sk-container-id-2 div.sk-item {position: relative;z-index: 1;}#sk-container-id-2 div.sk-parallel {display: flex;align-items: stretch;justify-content: center;background-color: white;position: relative;}#sk-container-id-2 div.sk-item::before, #sk-container-id-2 div.sk-parallel-item::before {content: \"\";position: absolute;border-left: 1px solid gray;box-sizing: border-box;top: 0;bottom: 0;left: 50%;z-index: -1;}#sk-container-id-2 div.sk-parallel-item {display: flex;flex-direction: column;z-index: 1;position: relative;background-color: white;}#sk-container-id-2 div.sk-parallel-item:first-child::after {align-self: flex-end;width: 50%;}#sk-container-id-2 div.sk-parallel-item:last-child::after {align-self: flex-start;width: 50%;}#sk-container-id-2 div.sk-parallel-item:only-child::after {width: 0;}#sk-container-id-2 div.sk-dashed-wrapped {border: 1px dashed gray;margin: 0 0.4em 0.5em 0.4em;box-sizing: border-box;padding-bottom: 0.4em;background-color: white;}#sk-container-id-2 div.sk-label label {font-family: monospace;font-weight: bold;display: inline-block;line-height: 1.2em;}#sk-container-id-2 div.sk-label-container {text-align: center;}#sk-container-id-2 div.sk-container {/* jupyter's `normalize.less` sets `[hidden] { display: none; }` but bootstrap.min.css set `[hidden] { display: none !important; }` so we also need the `!important` here to be able to override the default hidden behavior on the sphinx rendered scikit-learn.org. See: https://github.com/scikit-learn/scikit-learn/issues/21755 */display: inline-block !important;position: relative;}#sk-container-id-2 div.sk-text-repr-fallback {display: none;}</style><div id=\"sk-container-id-2\" class=\"sk-top-container\"><div class=\"sk-text-repr-fallback\"><pre>LinearRegression()</pre><b>In a Jupyter environment, please rerun this cell to show the HTML representation or trust the notebook. <br />On GitHub, the HTML representation is unable to render, please try loading this page with nbviewer.org.</b></div><div class=\"sk-container\" hidden><div class=\"sk-item\"><div class=\"sk-estimator sk-toggleable\"><input class=\"sk-toggleable__control sk-hidden--visually\" id=\"sk-estimator-id-2\" type=\"checkbox\" checked><label for=\"sk-estimator-id-2\" class=\"sk-toggleable__label sk-toggleable__label-arrow\">LinearRegression</label><div class=\"sk-toggleable__content\"><pre>LinearRegression()</pre></div></div></div></div></div>"
      ],
      "text/plain": [
       "LinearRegression()"
      ]
     },
     "execution_count": 25,
     "metadata": {},
     "output_type": "execute_result"
    }
   ],
   "source": [
    "regressor.fit(x,y)"
   ]
  },
  {
   "cell_type": "code",
   "execution_count": 26,
   "id": "3becb8ab",
   "metadata": {},
   "outputs": [
    {
     "data": {
      "text/plain": [
       "array([0.01312158])"
      ]
     },
     "execution_count": 26,
     "metadata": {},
     "output_type": "execute_result"
    }
   ],
   "source": [
    "regressor.coef_"
   ]
  },
  {
   "cell_type": "code",
   "execution_count": 27,
   "id": "2d5f7ed8",
   "metadata": {},
   "outputs": [
    {
     "data": {
      "text/plain": [
       "3.4761897126187016"
      ]
     },
     "execution_count": 27,
     "metadata": {},
     "output_type": "execute_result"
    }
   ],
   "source": [
    "regressor.intercept_"
   ]
  },
  {
   "cell_type": "code",
   "execution_count": 31,
   "id": "04729f25",
   "metadata": {},
   "outputs": [
    {
     "data": {
      "text/plain": [
       "array([30.03427031])"
      ]
     },
     "execution_count": 31,
     "metadata": {},
     "output_type": "execute_result"
    }
   ],
   "source": [
    "regressor.predict([[2024]])"
   ]
  },
  {
   "cell_type": "code",
   "execution_count": 32,
   "id": "058850a3",
   "metadata": {},
   "outputs": [],
   "source": [
    "predicted=regressor.predict(x)"
   ]
  },
  {
   "cell_type": "code",
   "execution_count": 33,
   "id": "816c581e",
   "metadata": {},
   "outputs": [
    {
     "data": {
      "text/plain": [
       "array([28.4203158 , 28.43343739, 28.44655897, 28.45968055, 28.47280213,\n",
       "       28.48592371, 28.49904529, 28.51216687, 28.52528846, 28.53841004,\n",
       "       28.55153162, 28.5646532 , 28.57777478, 28.59089636, 28.60401794,\n",
       "       28.61713952, 28.63026111, 28.64338269, 28.65650427, 28.66962585,\n",
       "       28.68274743, 28.69586901, 28.70899059, 28.72211218, 28.73523376,\n",
       "       28.74835534, 28.76147692, 28.7745985 , 28.78772008, 28.80084166,\n",
       "       28.81396324, 28.82708483, 28.84020641, 28.85332799, 28.86644957,\n",
       "       28.87957115, 28.89269273, 28.90581431, 28.91893589, 28.93205748,\n",
       "       28.94517906, 28.95830064, 28.97142222, 28.9845438 , 28.99766538,\n",
       "       29.01078696, 29.02390855, 29.03703013, 29.05015171, 29.06327329,\n",
       "       29.07639487, 29.08951645, 29.10263803, 29.11575961, 29.1288812 ,\n",
       "       29.14200278, 29.15512436, 29.16824594, 29.18136752, 29.1944891 ,\n",
       "       29.20761068, 29.22073227, 29.23385385, 29.24697543, 29.26009701,\n",
       "       29.27321859, 29.28634017, 29.29946175, 29.31258333, 29.32570492,\n",
       "       29.3388265 , 29.35194808, 29.36506966, 29.37819124, 29.39131282,\n",
       "       29.4044344 , 29.41755599, 29.43067757, 29.44379915, 29.45692073,\n",
       "       29.47004231, 29.48316389, 29.49628547, 29.50940705, 29.52252864,\n",
       "       29.53565022, 29.5487718 , 29.56189338, 29.57501496, 29.58813654,\n",
       "       29.60125812, 29.6143797 , 29.62750129, 29.64062287, 29.65374445,\n",
       "       29.66686603, 29.67998761, 29.69310919, 29.70623077, 29.71935236,\n",
       "       29.73247394, 29.74559552, 29.7587171 , 29.77183868, 29.78496026,\n",
       "       29.79808184, 29.81120342, 29.82432501, 29.83744659, 29.85056817,\n",
       "       29.86368975, 29.87681133, 29.88993291, 29.90305449, 29.91617608,\n",
       "       29.92929766, 29.94241924])"
      ]
     },
     "execution_count": 33,
     "metadata": {},
     "output_type": "execute_result"
    }
   ],
   "source": [
    "predicted"
   ]
  },
  {
   "cell_type": "code",
   "execution_count": 36,
   "id": "2f6d4fe8",
   "metadata": {},
   "outputs": [],
   "source": [
    "import numpy as np"
   ]
  },
  {
   "cell_type": "code",
   "execution_count": 37,
   "id": "d5e2f0a2",
   "metadata": {},
   "outputs": [
    {
     "data": {
      "text/plain": [
       "0.22535284978630413"
      ]
     },
     "execution_count": 37,
     "metadata": {},
     "output_type": "execute_result"
    }
   ],
   "source": [
    "np.mean(abs(y-predicted))"
   ]
  },
  {
   "cell_type": "code",
   "execution_count": 38,
   "id": "fa5e584f",
   "metadata": {},
   "outputs": [],
   "source": [
    "from sklearn.metrics import mean_absolute_error"
   ]
  },
  {
   "cell_type": "code",
   "execution_count": 39,
   "id": "73e52030",
   "metadata": {},
   "outputs": [
    {
     "data": {
      "text/plain": [
       "0.22535284978630413"
      ]
     },
     "execution_count": 39,
     "metadata": {},
     "output_type": "execute_result"
    }
   ],
   "source": [
    "mean_absolute_error(y,predicted)"
   ]
  },
  {
   "cell_type": "code",
   "execution_count": 40,
   "id": "0050ca4b",
   "metadata": {},
   "outputs": [
    {
     "data": {
      "text/plain": [
       "0.10960795229110352"
      ]
     },
     "execution_count": 40,
     "metadata": {},
     "output_type": "execute_result"
    }
   ],
   "source": [
    "#mean absolute Eror\n",
    "np.mean((y-predicted)**2)"
   ]
  },
  {
   "cell_type": "code",
   "execution_count": 41,
   "id": "08609078",
   "metadata": {},
   "outputs": [
    {
     "data": {
      "text/plain": [
       "0.10960795229110352"
      ]
     },
     "execution_count": 41,
     "metadata": {},
     "output_type": "execute_result"
    }
   ],
   "source": [
    "from sklearn.metrics import mean_squared_error\n",
    "mean_squared_error(y,predicted)"
   ]
  },
  {
   "cell_type": "code",
   "execution_count": 42,
   "id": "5569d3a1",
   "metadata": {},
   "outputs": [
    {
     "data": {
      "text/plain": [
       "0.6418078912783682"
      ]
     },
     "execution_count": 42,
     "metadata": {},
     "output_type": "execute_result"
    }
   ],
   "source": [
    "from sklearn.metrics import r2_score\n",
    "r2_score(y,predicted)"
   ]
  },
  {
   "cell_type": "code",
   "execution_count": 43,
   "id": "880d3628",
   "metadata": {},
   "outputs": [
    {
     "data": {
      "text/plain": [
       "0.6418078912783682"
      ]
     },
     "execution_count": 43,
     "metadata": {},
     "output_type": "execute_result"
    }
   ],
   "source": [
    "regressor.score(x,y)"
   ]
  },
  {
   "cell_type": "code",
   "execution_count": 47,
   "id": "af5514d9",
   "metadata": {},
   "outputs": [
    {
     "data": {
      "text/plain": [
       "<matplotlib.legend.Legend at 0x1a45702f310>"
      ]
     },
     "execution_count": 47,
     "metadata": {},
     "output_type": "execute_result"
    },
    {
     "data": {
      "image/png": "[encoded data removed]",
      "text/plain": [
       "<Figure size 640x480 with 1 Axes>"
      ]
     },
     "metadata": {},
     "output_type": "display_data"
    }
   ],
   "source": [
    " #plt.figure(figsize=(16,9))\n",
    "plt.title('Temperature plot of INDIA')\n",
    "plt.xlabel('Year')\n",
    "plt.ylabel('Annual average Temperatue')\n",
    "plt.scatter(x,y,label='actual',color='r')\n",
    "plt.plot(x,predicted, label='predicted',color='g')\n",
    "plt.legend()"
   ]
  },
  {
   "cell_type": "code",
   "execution_count": null,
   "id": "7a62ef21",
   "metadata": {},
   "outputs": [],
   "source": []
  }
 ],
 "metadata": {
  "kernelspec": {
   "display_name": "Python 3 (ipykernel)",
   "language": "python",
   "name": "python3"
  },
  "language_info": {
   "codemirror_mode": {
    "name": "ipython",
    "version": 3
   },
   "file_extension": ".py",
   "mimetype": "text/x-python",
   "name": "python",
   "nbconvert_exporter": "python",
   "pygments_lexer": "ipython3",
   "version": "3.10.5"
  }
 },
 "nbformat": 4,
 "nbformat_minor": 5
}
